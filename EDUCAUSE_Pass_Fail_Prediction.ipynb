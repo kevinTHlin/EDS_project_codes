{
 "cells": [
  {
   "cell_type": "code",
   "execution_count": 1,
   "metadata": {},
   "outputs": [
    {
     "name": "stdout",
     "output_type": "stream",
     "text": [
      "<class 'pandas.core.frame.DataFrame'>\n",
      "RangeIndex: 2006 entries, 0 to 2005\n",
      "Data columns (total 12 columns):\n",
      "USERID                       2006 non-null object\n",
      "Avg_quiz_score               2006 non-null float64\n",
      "Avg_discussion_posts         2006 non-null float64\n",
      "Participation_score          2006 non-null float64\n",
      "Course_visit_time            2005 non-null float64\n",
      "Avg_homework_score           2005 non-null float64\n",
      "Homework_complete_rate       2005 non-null float64\n",
      "Avg_homework_submit_times    2005 non-null float64\n",
      "Mid-term_homework_score      2006 non-null int64\n",
      "Mid-term_exam_score          2006 non-null int64\n",
      "Course_visits                2006 non-null int64\n",
      "Final_exam_grade             2006 non-null int64\n",
      "dtypes: float64(7), int64(4), object(1)\n",
      "memory usage: 188.2+ KB\n",
      "4\n",
      "2006\n"
     ]
    }
   ],
   "source": [
    "import pandas as pd\n",
    "import numpy as np\n",
    "\n",
    "#Learning Data with 11 features (10 IVs and 1 DV) on LMS \n",
    "#In the course, pass or fail only depends on Final_exam_grade\n",
    "#Other features are only references to instructors\n",
    "df = pd.read_excel('EDUCAUSE_Data.xls', sep=\",\")\n",
    "df.info()\n",
    "print(df.isnull().sum().sum())\n",
    "print(len(df['USERID']))\n",
    "#2006 learners"
   ]
  },
  {
   "cell_type": "code",
   "execution_count": 2,
   "metadata": {},
   "outputs": [
    {
     "name": "stdout",
     "output_type": "stream",
     "text": [
      "0\n",
      "2005\n"
     ]
    }
   ],
   "source": [
    "#min-max normalization on the 10 IV features\n",
    "df_scaling = df.dropna(axis=0)\n",
    "print(df_scaling.isnull().sum().sum())\n",
    "print(len(df_scaling['USERID']))\n",
    "#1 attrition"
   ]
  },
  {
   "cell_type": "code",
   "execution_count": 3,
   "metadata": {},
   "outputs": [
    {
     "name": "stderr",
     "output_type": "stream",
     "text": [
      "C:\\Users\\lawre\\Anaconda3\\envs\\tensorflow\\lib\\site-packages\\sklearn\\preprocessing\\data.py:323: DataConversionWarning: Data with input dtype int64, float64 were all converted to float64 by MinMaxScaler.\n",
      "  return self.partial_fit(X, y)\n"
     ]
    }
   ],
   "source": [
    "from sklearn.preprocessing import MinMaxScaler\n",
    "df_scaling = df_scaling.set_index('USERID')\n",
    "scaler = MinMaxScaler()    # Scaling to 0~1\n",
    "df_scaling.iloc[:, :10] = scaler.fit_transform(df_scaling.iloc[:, :10])    #axis = 0; scaleing on each column"
   ]
  },
  {
   "cell_type": "code",
   "execution_count": 4,
   "metadata": {},
   "outputs": [],
   "source": [
    "#Transform Final_exam_grade to pass(1)/fail(0) status\n",
    "def pass_or_fail(x):\n",
    "    if x >= 60:\n",
    "        return 1\n",
    "    else:\n",
    "        return 0\n",
    "\n",
    "df_scaling['Pass/Faill'] = df_scaling['Final_exam_grade'].apply(pass_or_fail)"
   ]
  },
  {
   "cell_type": "code",
   "execution_count": 6,
   "metadata": {},
   "outputs": [],
   "source": [
    "#IVs\n",
    "features = df_scaling[df_scaling.columns[~df_scaling.columns.isin(['Final_exam_grade', 'Pass/Faill'])]]\n",
    "#DV\n",
    "target = df_scaling['Pass/Faill']"
   ]
  },
  {
   "cell_type": "code",
   "execution_count": 7,
   "metadata": {},
   "outputs": [
    {
     "data": {
      "text/plain": [
       "array([0.98671096, 0.99003322, 0.97009967, 0.98671096, 0.98006645,\n",
       "       0.98327759])"
      ]
     },
     "execution_count": 7,
     "metadata": {},
     "output_type": "execute_result"
    }
   ],
   "source": [
    "#Train a random forest model to predict learners' pass/fail status\n",
    "#which will be used in the algorithm aversion experiment\n",
    "import matplotlib.pyplot as plt\n",
    "from sklearn import metrics\n",
    "from sklearn.model_selection import KFold, cross_val_score, StratifiedKFold, train_test_split\n",
    "from sklearn.pipeline import make_pipeline\n",
    "from sklearn.ensemble import RandomForestClassifier\n",
    "\n",
    "RF = RandomForestClassifier()\n",
    "kf = StratifiedKFold(n_splits=6, shuffle=True, random_state=1)\n",
    "\n",
    "#Use training dataset for cross-validation\n",
    "features_train, features_test, target_train, target_test = train_test_split(features, target, test_size=0.1, random_state=1)\n",
    "cross_val_score(RF, features_train, target_train, cv = kf, scoring = \"accuracy\", n_jobs=-1)\n",
    "\n",
    "#Using a random forest model for the prediction looks pretty good "
   ]
  },
  {
   "cell_type": "code",
   "execution_count": 9,
   "metadata": {},
   "outputs": [
    {
     "name": "stderr",
     "output_type": "stream",
     "text": [
      "C:\\Users\\lawre\\Anaconda3\\envs\\tensorflow\\lib\\site-packages\\sklearn\\ensemble\\forest.py:248: FutureWarning: The default value of n_estimators will change from 10 in version 0.20 to 100 in 0.22.\n",
      "  \"10 in version 0.20 to 100 in 0.22.\", FutureWarning)\n"
     ]
    },
    {
     "data": {
      "text/plain": [
       "RandomForestClassifier(bootstrap=True, class_weight=None, criterion='gini',\n",
       "            max_depth=None, max_features='auto', max_leaf_nodes=None,\n",
       "            min_impurity_decrease=0.0, min_impurity_split=None,\n",
       "            min_samples_leaf=1, min_samples_split=2,\n",
       "            min_weight_fraction_leaf=0.0, n_estimators=10, n_jobs=None,\n",
       "            oob_score=False, random_state=None, verbose=0,\n",
       "            warm_start=False)"
      ]
     },
     "execution_count": 9,
     "metadata": {},
     "output_type": "execute_result"
    }
   ],
   "source": [
    "#Train the model\n",
    "RF.fit(features_train, target_train)"
   ]
  },
  {
   "cell_type": "code",
   "execution_count": 10,
   "metadata": {},
   "outputs": [
    {
     "data": {
      "text/plain": [
       "0.9950248756218906"
      ]
     },
     "execution_count": 10,
     "metadata": {},
     "output_type": "execute_result"
    }
   ],
   "source": [
    "#Evaluate the model using test dataset\n",
    "RF.score(features_test, target_test)\n",
    "\n",
    "#the model with an accuracy rate of 99.5%"
   ]
  },
  {
   "cell_type": "code",
   "execution_count": 14,
   "metadata": {},
   "outputs": [
    {
     "name": "stdout",
     "output_type": "stream",
     "text": [
      "[0.08189045 0.11692449 0.09189417 0.01609286 0.02136691 0.01189993\n",
      " 0.06500661 0.47462488 0.07941925 0.04088045]\n",
      "Index(['Avg_quiz_score', 'Avg_discussion_posts', 'Participation_score',\n",
      "       'Course_visit_time', 'Avg_homework_score', 'Homework_complete_rate',\n",
      "       'Avg_homework_submit_times', 'Mid-term_homework_score',\n",
      "       'Mid-term_exam_score', 'Course_visits'],\n",
      "      dtype='object')\n"
     ]
    }
   ],
   "source": [
    "#Feature importance of the model\n",
    "print(RF.feature_importances_)\n",
    "print(df_scaling.columns[:10])"
   ]
  },
  {
   "cell_type": "code",
   "execution_count": 23,
   "metadata": {},
   "outputs": [
    {
     "data": {
      "text/plain": [
       "[5, 3, 4, 9, 6, 8, 0, 2, 1, 7]"
      ]
     },
     "execution_count": 23,
     "metadata": {},
     "output_type": "execute_result"
    }
   ],
   "source": [
    "np.argsort(RF.feature_importances_).tolist()"
   ]
  },
  {
   "cell_type": "code",
   "execution_count": 13,
   "metadata": {},
   "outputs": [
    {
     "data": {
      "text/plain": [
       "<BarContainer object of 10 artists>"
      ]
     },
     "execution_count": 13,
     "metadata": {},
     "output_type": "execute_result"
    },
    {
     "data": {
      "image/png": "[encoded data removed]",
      "text/plain": [
       "<Figure size 432x288 with 1 Axes>"
      ]
     },
     "metadata": {
      "needs_background": "light"
     },
     "output_type": "display_data"
    }
   ],
   "source": [
    "plt.barh(df_scaling.columns[:10], RF.feature_importances_)"
   ]
  },
  {
   "cell_type": "code",
   "execution_count": 20,
   "metadata": {},
   "outputs": [],
   "source": [
    "feature_importance_in_order = np.argsort(RF.feature_importances_).tolist()\n",
    "\n",
    "name_in_order = []\n",
    "for i in feature_importance_in_order: \n",
    "    name_in_order.append(list(df_scaling.columns[:10])[i])\n",
    "score_in_order = []\n",
    "for i in feature_importance_in_order: \n",
    "    score_in_order.append(RF.feature_importances_[i])"
   ]
  },
  {
   "cell_type": "code",
   "execution_count": 21,
   "metadata": {},
   "outputs": [
    {
     "data": {
      "text/plain": [
       "<BarContainer object of 10 artists>"
      ]
     },
     "execution_count": 21,
     "metadata": {},
     "output_type": "execute_result"
    },
    {
     "data": {
      "image/png": "[encoded data removed]",
      "text/plain": [
       "<Figure size 432x288 with 1 Axes>"
      ]
     },
     "metadata": {
      "needs_background": "light"
     },
     "output_type": "display_data"
    }
   ],
   "source": [
    "#Interpretable/explanable chart\n",
    "plt.barh(name_in_order, score_in_order)\n",
    "\n",
    "#This interpretable/explanable chart will be presented to participants in the algorithm aversion experiment"
   ]
  }
 ],
 "metadata": {
  "kernelspec": {
   "display_name": "Python 3",
   "language": "python",
   "name": "python3"
  },
  "language_info": {
   "codemirror_mode": {
    "name": "ipython",
    "version": 3
   },
   "file_extension": ".py",
   "mimetype": "text/x-python",
   "name": "python",
   "nbconvert_exporter": "python",
   "pygments_lexer": "ipython3",
   "version": "3.5.6"
  }
 },
 "nbformat": 4,
 "nbformat_minor": 2
}
